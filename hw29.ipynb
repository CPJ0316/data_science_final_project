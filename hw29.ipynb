{
  "nbformat": 4,
  "nbformat_minor": 0,
  "metadata": {
    "colab": {
      "provenance": [],
      "collapsed_sections": [
        "4aUuuqQU6H9y",
        "l_2CIXD4D5F0",
        "snMo21TvhxLt",
        "OV-pCHmWh5c-",
        "pKKp9wwsh74-",
        "61PrMsIxh_u3",
        "XajrAqQBF-pw",
        "mQeJddpziT9W",
        "C2sV4_hyiW9x",
        "M1xz4oaIicpJ",
        "KawL1RQaifQi",
        "uusWbBIaiiP2",
        "ybMt8ncnikSF"
      ]
    },
    "kernelspec": {
      "name": "python3",
      "display_name": "Python 3"
    },
    "language_info": {
      "name": "python"
    }
  },
  "cells": [
    {
      "cell_type": "markdown",
      "source": [
        "## HW29\n",
        "### 第3小隊_陳珮婕\n",
        "參考資料:https://scikit-learn.org/stable/index.html"
      ],
      "metadata": {
        "id": "RjmIG6S5061_"
      }
    },
    {
      "cell_type": "markdown",
      "source": [
        "#### 作業前準備"
      ],
      "metadata": {
        "id": "LdMXzaoRDuCV"
      }
    },
    {
      "cell_type": "code",
      "source": [
        "!pip3 install sklearn numpy pandas datetime joblib matplotlib seaborn\n",
        "from google.colab import drive\n",
        "drive.mount('/content/gdrive')\n",
        "import pandas as pd\n",
        "import numpy as np\n",
        "import datetime\n",
        "import joblib\n",
        "import matplotlib.pyplot as plt\n",
        "import seaborn as sns\n",
        "from sklearn import tree\n",
        "import pickle\n",
        "\n",
        "from sklearn.model_selection import train_test_split\n",
        "from sklearn.metrics import plot_confusion_matrix\n",
        "from sklearn.metrics import precision_recall_fscore_support\n",
        "from sklearn.metrics import accuracy_score, f1_score, precision_score, recall_score, classification_report, confusion_matrix\n",
        "\n",
        "current_time = datetime.datetime.now()\n",
        "current = datetime.date.today()"
      ],
      "metadata": {
        "colab": {
          "base_uri": "https://localhost:8080/"
        },
        "id": "zVlGEHtU07mi",
        "outputId": "0d4f7685-33b0-4459-e60d-0fa6743d653c"
      },
      "execution_count": null,
      "outputs": [
        {
          "output_type": "stream",
          "name": "stdout",
          "text": [
            "Looking in indexes: https://pypi.org/simple, https://us-python.pkg.dev/colab-wheels/public/simple/\n",
            "Collecting sklearn\n",
            "  Downloading sklearn-0.0.tar.gz (1.1 kB)\n",
            "Requirement already satisfied: numpy in /usr/local/lib/python3.7/dist-packages (1.21.6)\n",
            "Requirement already satisfied: pandas in /usr/local/lib/python3.7/dist-packages (1.3.5)\n",
            "Collecting datetime\n",
            "  Downloading DateTime-4.6-py2.py3-none-any.whl (52 kB)\n",
            "\u001b[K     |████████████████████████████████| 52 kB 718 kB/s \n",
            "\u001b[?25hRequirement already satisfied: joblib in /usr/local/lib/python3.7/dist-packages (1.1.0)\n",
            "Requirement already satisfied: matplotlib in /usr/local/lib/python3.7/dist-packages (3.2.2)\n",
            "Requirement already satisfied: seaborn in /usr/local/lib/python3.7/dist-packages (0.11.2)\n",
            "Requirement already satisfied: scikit-learn in /usr/local/lib/python3.7/dist-packages (from sklearn) (1.0.2)\n",
            "Requirement already satisfied: pytz>=2017.3 in /usr/local/lib/python3.7/dist-packages (from pandas) (2022.2.1)\n",
            "Requirement already satisfied: python-dateutil>=2.7.3 in /usr/local/lib/python3.7/dist-packages (from pandas) (2.8.2)\n",
            "Requirement already satisfied: six>=1.5 in /usr/local/lib/python3.7/dist-packages (from python-dateutil>=2.7.3->pandas) (1.15.0)\n",
            "Collecting zope.interface\n",
            "  Downloading zope.interface-5.4.0-cp37-cp37m-manylinux2010_x86_64.whl (251 kB)\n",
            "\u001b[K     |████████████████████████████████| 251 kB 8.6 MB/s \n",
            "\u001b[?25hRequirement already satisfied: cycler>=0.10 in /usr/local/lib/python3.7/dist-packages (from matplotlib) (0.11.0)\n",
            "Requirement already satisfied: kiwisolver>=1.0.1 in /usr/local/lib/python3.7/dist-packages (from matplotlib) (1.4.4)\n",
            "Requirement already satisfied: pyparsing!=2.0.4,!=2.1.2,!=2.1.6,>=2.0.1 in /usr/local/lib/python3.7/dist-packages (from matplotlib) (3.0.9)\n",
            "Requirement already satisfied: typing-extensions in /usr/local/lib/python3.7/dist-packages (from kiwisolver>=1.0.1->matplotlib) (4.1.1)\n",
            "Requirement already satisfied: scipy>=1.0 in /usr/local/lib/python3.7/dist-packages (from seaborn) (1.7.3)\n",
            "Requirement already satisfied: threadpoolctl>=2.0.0 in /usr/local/lib/python3.7/dist-packages (from scikit-learn->sklearn) (3.1.0)\n",
            "Requirement already satisfied: setuptools in /usr/local/lib/python3.7/dist-packages (from zope.interface->datetime) (57.4.0)\n",
            "Building wheels for collected packages: sklearn\n",
            "  Building wheel for sklearn (setup.py) ... \u001b[?25l\u001b[?25hdone\n",
            "  Created wheel for sklearn: filename=sklearn-0.0-py2.py3-none-any.whl size=1310 sha256=a0a878fd8f2ade1b1b9e9b8595c2425d8768aac7e255440b0211b2d14f2d1d34\n",
            "  Stored in directory: /root/.cache/pip/wheels/46/ef/c3/157e41f5ee1372d1be90b09f74f82b10e391eaacca8f22d33e\n",
            "Successfully built sklearn\n",
            "Installing collected packages: zope.interface, sklearn, datetime\n",
            "Successfully installed datetime-4.6 sklearn-0.0 zope.interface-5.4.0\n",
            "Mounted at /content/gdrive\n"
          ]
        }
      ]
    },
    {
      "cell_type": "code",
      "source": [
        "data2=pd.read_csv('/content/gdrive/MyDrive/資料科學家/第八堂課程練習/機台資料_標籤.csv', index_col=None)"
      ],
      "metadata": {
        "id": "TOBeBORA1990"
      },
      "execution_count": null,
      "outputs": []
    },
    {
      "cell_type": "code",
      "source": [
        "data=data2.copy()\n",
        "data['時間'] = pd.to_datetime(data['時間'])\n",
        "data['裡面橫封溫度'] = data['裡面橫封溫度'].astype(str)\n",
        "data['外面橫封溫度'] = data['外面橫封溫度'].astype(str)\n",
        "data['橫封溫度設定'] = data['橫封溫度設定'].astype(str)\n",
        "data['橫封溫度警報範圍'] = data['橫封溫度警報範圍'].astype(str)\n",
        "data['豎封實際溫度'] = data['豎封實際溫度'].astype(str)\n",
        "data['豎封溫度設定'] = data['豎封溫度設定'].astype(str)\n",
        "data['打碼左邊實際溫度'] = data['打碼左邊實際溫度'].astype(str)\n",
        "data['打碼右邊實際溫度'] = data['打碼右邊實際溫度'].astype(str)\n",
        "data['標籤'] = data['標籤'].astype(str)\n",
        "print(data.info())\n",
        "print('空值數目', data.isnull().sum())\n",
        "Xdata_original = data[['時間','裡面橫封溫度','外面橫封溫度','橫封溫度設定','橫封溫度警報範圍','豎封實際溫度','豎封溫度設定','打碼左邊實際溫度','打碼右邊實際溫度']]\n",
        "Xdata = Xdata_original.drop(columns='時間')\n",
        "Ydata = data['標籤']\n",
        "X_train, X_test, y_train, y_test = train_test_split(Xdata, Ydata.values , test_size=0.2, random_state=20)"
      ],
      "metadata": {
        "id": "WWqWE8fb2sK9",
        "colab": {
          "base_uri": "https://localhost:8080/"
        },
        "outputId": "f5dfe537-040d-4b83-933d-9cf774cfec19"
      },
      "execution_count": null,
      "outputs": [
        {
          "output_type": "stream",
          "name": "stdout",
          "text": [
            "<class 'pandas.core.frame.DataFrame'>\n",
            "RangeIndex: 244 entries, 0 to 243\n",
            "Data columns (total 10 columns):\n",
            " #   Column    Non-Null Count  Dtype         \n",
            "---  ------    --------------  -----         \n",
            " 0   時間        244 non-null    datetime64[ns]\n",
            " 1   裡面橫封溫度    244 non-null    object        \n",
            " 2   外面橫封溫度    244 non-null    object        \n",
            " 3   橫封溫度設定    244 non-null    object        \n",
            " 4   橫封溫度警報範圍  244 non-null    object        \n",
            " 5   豎封實際溫度    244 non-null    object        \n",
            " 6   豎封溫度設定    244 non-null    object        \n",
            " 7   打碼左邊實際溫度  244 non-null    object        \n",
            " 8   打碼右邊實際溫度  244 non-null    object        \n",
            " 9   標籤        244 non-null    object        \n",
            "dtypes: datetime64[ns](1), object(9)\n",
            "memory usage: 19.2+ KB\n",
            "None\n",
            "空值數目 時間          0\n",
            "裡面橫封溫度      0\n",
            "外面橫封溫度      0\n",
            "橫封溫度設定      0\n",
            "橫封溫度警報範圍    0\n",
            "豎封實際溫度      0\n",
            "豎封溫度設定      0\n",
            "打碼左邊實際溫度    0\n",
            "打碼右邊實際溫度    0\n",
            "標籤          0\n",
            "dtype: int64\n"
          ]
        }
      ]
    },
    {
      "cell_type": "markdown",
      "source": [
        "#### 預測資料"
      ],
      "metadata": {
        "id": "WSEikSQlSLKd"
      }
    },
    {
      "cell_type": "code",
      "source": [
        "predict_data = pd.read_csv('/content/gdrive/MyDrive/資料科學家/第八堂課程練習/機台預測資料.csv',encoding=\"utf-8\")\n",
        "predict_data['時間'] = pd.to_datetime(data['時間'])\n",
        "predict_data['裡面橫封溫度'] = predict_data['裡面橫封溫度'].astype(str)\n",
        "predict_data['外面橫封溫度'] = predict_data['外面橫封溫度'].astype(str)\n",
        "predict_data['橫封溫度設定'] = predict_data['橫封溫度設定'].astype(str)\n",
        "predict_data['橫封溫度警報範圍'] = predict_data['橫封溫度警報範圍'].astype(str)\n",
        "predict_data['豎封實際溫度'] = predict_data['豎封實際溫度'].astype(str)\n",
        "predict_data['豎封溫度設定'] = predict_data['豎封溫度設定'].astype(str)\n",
        "predict_data['打碼左邊實際溫度'] = predict_data['打碼左邊實際溫度'].astype(str)\n",
        "predict_data['打碼右邊實際溫度'] = predict_data['打碼右邊實際溫度'].astype(str)\n",
        "print(predict_data.info())\n",
        "print('空值數目', predict_data.isnull().sum())\n",
        "predictX = predict_data[['裡面橫封溫度','外面橫封溫度','橫封溫度設定','橫封溫度警報範圍','豎封實際溫度','豎封溫度設定','打碼左邊實際溫度','打碼右邊實際溫度']]"
      ],
      "metadata": {
        "id": "5aFPyLbgRFqR",
        "colab": {
          "base_uri": "https://localhost:8080/"
        },
        "outputId": "f3136d84-6eae-458c-963b-f94c922488f9"
      },
      "execution_count": null,
      "outputs": [
        {
          "output_type": "stream",
          "name": "stdout",
          "text": [
            "<class 'pandas.core.frame.DataFrame'>\n",
            "RangeIndex: 244 entries, 0 to 243\n",
            "Data columns (total 9 columns):\n",
            " #   Column    Non-Null Count  Dtype         \n",
            "---  ------    --------------  -----         \n",
            " 0   時間        244 non-null    datetime64[ns]\n",
            " 1   裡面橫封溫度    244 non-null    object        \n",
            " 2   外面橫封溫度    244 non-null    object        \n",
            " 3   橫封溫度設定    244 non-null    object        \n",
            " 4   橫封溫度警報範圍  244 non-null    object        \n",
            " 5   豎封實際溫度    244 non-null    object        \n",
            " 6   豎封溫度設定    244 non-null    object        \n",
            " 7   打碼左邊實際溫度  244 non-null    object        \n",
            " 8   打碼右邊實際溫度  244 non-null    object        \n",
            "dtypes: datetime64[ns](1), object(8)\n",
            "memory usage: 17.3+ KB\n",
            "None\n",
            "空值數目 時間          0\n",
            "裡面橫封溫度      0\n",
            "外面橫封溫度      0\n",
            "橫封溫度設定      0\n",
            "橫封溫度警報範圍    0\n",
            "豎封實際溫度      0\n",
            "豎封溫度設定      0\n",
            "打碼左邊實際溫度    0\n",
            "打碼右邊實際溫度    0\n",
            "dtype: int64\n"
          ]
        }
      ]
    },
    {
      "cell_type": "markdown",
      "source": [
        "#### 輸出函式"
      ],
      "metadata": {
        "id": "jnskg5-LSHcK"
      }
    },
    {
      "cell_type": "code",
      "source": [
        "def output(name,Y_pred_model,train_score,test_score,Y_pred_model_test):\n",
        "  acc_model = round(train_score * 100, 2)\n",
        "  acc_model_test = round(test_score * 100, 2)\n",
        "  model_precision = round( precision_score(y_test, Y_pred_model, average=\"macro\") * 100, 2)\n",
        "  print(y_test, Y_pred_model)\n",
        "  model_recall = round( recall_score(y_test, Y_pred_model, average=\"macro\") * 100, 2)\n",
        "  model_fscore = round( f1_score(y_test, Y_pred_model, average=\"macro\") * 100, 2)\n",
        "\n",
        "\n",
        "  models = pd.DataFrame({\n",
        "    'Train': [name],\n",
        "    'accuracy': [acc_model],\n",
        "    'test': [acc_model_test],\n",
        "    'precision': [model_precision],\n",
        "    'recall': [model_recall],\n",
        "    'fscore': [model_fscore],\n",
        "  })\n",
        "\n",
        "  models.sort_values(by='accuracy', ascending=False)\n",
        "  models.to_csv('/content/gdrive/MyDrive/資料科學家/第八堂課程練習/綜合表/'+name+'綜合表.csv',index=False)\n",
        "  print(models)\n",
        "\n",
        "  # 輸出 knn confusion matrix\n",
        "  model_cm  = confusion_matrix(y_test,Y_pred_model)\n",
        "  model_cms = sns.heatmap(model_cm, square=True, annot=True, cbar=False, fmt='g')\n",
        "  model_cms.set_title('demo_'+name+'_confusion_matrix')\n",
        "  model_cms.set_xlabel(\"predicted value\")\n",
        "  model_cms.set_ylabel(\"true value\")\n",
        "  plt.rcParams['font.sans-serif']=['SimHei']\n",
        "  plt.rcParams['axes.unicode_minus'] = False\n",
        "  plt.savefig('/content/gdrive/MyDrive/資料科學家/第八堂課程練習/images/'+name+'_confusion_matrix.png', dpi=200)\n",
        "  plt.show()\n",
        "  plt.close()\n",
        "\n",
        "  # 進行預測\n",
        "  predict_result = pd.DataFrame(Y_pred_model_test)\n",
        "  predict_result.rename( columns={0: '預測結果'}, inplace=True)\n",
        "\n",
        "  predict_dataframe = pd.concat([predict_data,predict_result],axis=1)\n",
        "  predict_dataframe.sort_values('時間', inplace=True, ascending=True)\n",
        "  predict_dataframe.to_csv('/content/gdrive/MyDrive/資料科學家/第八堂課程練習/機台預測結果/'+name+'機台預測結果.csv',index=False)\n",
        "  #print(predict_dataframe)"
      ],
      "metadata": {
        "id": "1NFci39_JHA6"
      },
      "execution_count": null,
      "outputs": []
    },
    {
      "cell_type": "markdown",
      "source": [
        "#### Support Vector Machine"
      ],
      "metadata": {
        "id": "4aUuuqQU6H9y"
      }
    },
    {
      "cell_type": "code",
      "source": [
        "from sklearn.svm import SVC\n",
        "svm = SVC(kernel='linear', probability=True)#初始化演算法\n",
        "svm.fit(X_train, y_train)#把資料丟入演算法\n",
        "Y_pred_svm = svm.predict(X_test)#儲存預測數值\n",
        "svm_train_score=svm.score(X_train, y_train)\n",
        "svm_test_score=svm.score(X_test, y_test)\n",
        "\n",
        "Y_pred_svm_test=svm.predict(predictX)\n",
        "pickle.dump(svm, open('/content/gdrive/MyDrive/資料科學家/第八堂課程練習/pkl/'+'svm'+'.pkl', 'wb'))"
      ],
      "metadata": {
        "id": "tkvtTN7l-Z3z"
      },
      "execution_count": null,
      "outputs": []
    },
    {
      "cell_type": "code",
      "source": [
        "output(\"svm\",Y_pred_svm,svm_train_score,svm_test_score,Y_pred_svm_test)"
      ],
      "metadata": {
        "id": "hODCL_lJ_UCR",
        "colab": {
          "base_uri": "https://localhost:8080/"
        },
        "outputId": "52a615b3-baf3-4d1c-b07f-e34942875c6f"
      },
      "execution_count": null,
      "outputs": [
        {
          "output_type": "stream",
          "name": "stdout",
          "text": [
            "['0' '0' '0' '0' '0' '0' '0' '0' '0' '0' '2' '0' '0' '0' '0' '2' '0' '0'\n",
            " '0' '0' '0' '0' '0' '0' '0' '1' '0' '0' '0' '0' '0' '1' '0' '0' '1' '0'\n",
            " '0' '0' '0' '0' '0' '0' '0' '0' '0' '0' '0' '0' '0'] ['0' '0' '0' '0' '0' '0' '0' '0' '0' '0' '2' '0' '0' '0' '0' '2' '0' '0'\n",
            " '0' '0' '0' '0' '0' '0' '0' '1' '0' '0' '0' '0' '0' '2' '0' '0' '2' '0'\n",
            " '0' '0' '0' '0' '0' '0' '0' '0' '0' '0' '0' '0' '0']\n"
          ]
        },
        {
          "output_type": "stream",
          "name": "stderr",
          "text": [
            "WARNING:matplotlib.font_manager:findfont: Font family ['sans-serif'] not found. Falling back to DejaVu Sans.\n",
            "WARNING:matplotlib.font_manager:findfont: Font family ['sans-serif'] not found. Falling back to DejaVu Sans.\n"
          ]
        },
        {
          "output_type": "stream",
          "name": "stdout",
          "text": [
            "  Train  accuracy   test  precision  recall  fscore\n",
            "0   svm     98.97  95.92      83.33   77.78   72.22\n"
          ]
        },
        {
          "output_type": "display_data",
          "data": {
            "text/plain": [
              "<Figure size 432x288 with 1 Axes>"
            ],
            "image/png": "[encoded data removed]"
          },
          "metadata": {
            "needs_background": "light"
          }
        }
      ]
    },
    {
      "cell_type": "markdown",
      "source": [
        "#### Logistic Regression"
      ],
      "metadata": {
        "id": "l_2CIXD4D5F0"
      }
    },
    {
      "cell_type": "code",
      "source": [
        "from sklearn import linear_model\n",
        "lr=linear_model.LogisticRegression()#初始化資料\n",
        "lr.fit(X_train,y_train)#丟入資料\n",
        "Y_pred_lr = lr.predict(X_test)#儲存預測數值\n",
        "lr_train_score=lr.score(X_train, y_train)\n",
        "lr_test_score=lr.score(X_test, y_test)\n",
        "Y_pred_lr_test=lr.predict(predictX)\n",
        "pickle.dump(lr, open('/content/gdrive/MyDrive/資料科學家/第八堂課程練習/pkl/'+'Logistic Regression'+'.pkl', 'wb'))"
      ],
      "metadata": {
        "id": "Ivz3JMqGEG62",
        "colab": {
          "base_uri": "https://localhost:8080/"
        },
        "outputId": "1f28e2ea-f250-49e2-e4ca-e0c838556611"
      },
      "execution_count": null,
      "outputs": [
        {
          "output_type": "stream",
          "name": "stderr",
          "text": [
            "/usr/local/lib/python3.7/dist-packages/sklearn/linear_model/_logistic.py:818: ConvergenceWarning: lbfgs failed to converge (status=1):\n",
            "STOP: TOTAL NO. of ITERATIONS REACHED LIMIT.\n",
            "\n",
            "Increase the number of iterations (max_iter) or scale the data as shown in:\n",
            "    https://scikit-learn.org/stable/modules/preprocessing.html\n",
            "Please also refer to the documentation for alternative solver options:\n",
            "    https://scikit-learn.org/stable/modules/linear_model.html#logistic-regression\n",
            "  extra_warning_msg=_LOGISTIC_SOLVER_CONVERGENCE_MSG,\n"
          ]
        }
      ]
    },
    {
      "cell_type": "code",
      "source": [
        "output(\"Logistic Regression\",Y_pred_lr,lr_train_score,lr_test_score,Y_pred_lr_test)"
      ],
      "metadata": {
        "colab": {
          "base_uri": "https://localhost:8080/"
        },
        "id": "ed3JMZBKTFTo",
        "outputId": "96458b5d-0b78-43e3-948e-dd0ad9a697d6"
      },
      "execution_count": null,
      "outputs": [
        {
          "output_type": "stream",
          "name": "stdout",
          "text": [
            "['0' '0' '0' '0' '0' '0' '0' '0' '0' '0' '2' '0' '0' '0' '0' '2' '0' '0'\n",
            " '0' '0' '0' '0' '0' '0' '0' '1' '0' '0' '0' '0' '0' '1' '0' '0' '1' '0'\n",
            " '0' '0' '0' '0' '0' '0' '0' '0' '0' '0' '0' '0' '0'] ['0' '0' '0' '0' '0' '0' '0' '0' '0' '0' '2' '0' '0' '0' '0' '2' '0' '0'\n",
            " '0' '0' '0' '0' '0' '0' '0' '1' '0' '0' '0' '0' '0' '1' '0' '0' '1' '0'\n",
            " '0' '0' '0' '0' '0' '0' '0' '0' '0' '0' '0' '0' '0']\n",
            "                 Train  accuracy   test  precision  recall  fscore\n",
            "0  Logistic Regression     98.46  100.0      100.0   100.0   100.0\n"
          ]
        },
        {
          "output_type": "display_data",
          "data": {
            "text/plain": [
              "<Figure size 432x288 with 1 Axes>"
            ],
            "image/png": "[encoded data removed]"
          },
          "metadata": {
            "needs_background": "light"
          }
        }
      ]
    },
    {
      "cell_type": "markdown",
      "source": [
        "#### GaussianNB"
      ],
      "metadata": {
        "id": "snMo21TvhxLt"
      }
    },
    {
      "cell_type": "code",
      "source": [
        "from sklearn import naive_bayes\n",
        "GNB=naive_bayes.GaussianNB()\n",
        "GNB.fit(X_train,y_train)\n",
        "Y_pred_GNB=GNB.predict(X_test)\n",
        "GNB_train_score=GNB.score(X_train, y_train)\n",
        "GNB_test_score=GNB.score(X_test, y_test)\n",
        "Y_pred_GNB_test=GNB.predict(predictX)\n",
        "pickle.dump(GNB, open('/content/gdrive/MyDrive/資料科學家/第八堂課程練習/pkl/'+'GaussianNB'+'.pkl', 'wb'))"
      ],
      "metadata": {
        "id": "h4LcHFgnh5Le"
      },
      "execution_count": null,
      "outputs": []
    },
    {
      "cell_type": "code",
      "source": [
        "output(\"GaussianNB\",Y_pred_GNB,GNB_train_score,GNB_test_score,Y_pred_GNB_test)"
      ],
      "metadata": {
        "colab": {
          "base_uri": "https://localhost:8080/"
        },
        "id": "yKs4XBe-khYd",
        "outputId": "13acd3c3-f0ee-4a62-b6f2-eea9d0ea300b"
      },
      "execution_count": null,
      "outputs": [
        {
          "output_type": "stream",
          "name": "stdout",
          "text": [
            "['0' '0' '0' '0' '0' '0' '0' '0' '0' '0' '2' '0' '0' '0' '0' '2' '0' '0'\n",
            " '0' '0' '0' '0' '0' '0' '0' '1' '0' '0' '0' '0' '0' '1' '0' '0' '1' '0'\n",
            " '0' '0' '0' '0' '0' '0' '0' '0' '0' '0' '0' '0' '0'] ['0' '0' '0' '0' '0' '0' '0' '0' '0' '0' '2' '0' '0' '0' '0' '2' '0' '0'\n",
            " '0' '0' '0' '0' '0' '0' '0' '1' '0' '0' '0' '0' '0' '1' '0' '0' '2' '0'\n",
            " '0' '0' '0' '0' '0' '0' '0' '0' '0' '0' '0' '0' '0']\n",
            "        Train  accuracy   test  precision  recall  fscore\n",
            "0  GaussianNB     98.46  97.96      88.89   88.89   86.67\n"
          ]
        },
        {
          "output_type": "display_data",
          "data": {
            "text/plain": [
              "<Figure size 432x288 with 1 Axes>"
            ],
            "image/png": "[encoded data removed]"
          },
          "metadata": {
            "needs_background": "light"
          }
        }
      ]
    },
    {
      "cell_type": "markdown",
      "source": [
        "#### Perceptron"
      ],
      "metadata": {
        "id": "OV-pCHmWh5c-"
      }
    },
    {
      "cell_type": "code",
      "source": [
        "from sklearn.linear_model import Perceptron\n",
        "Per = Perceptron()\n",
        "Per.fit(X_train,y_train)\n",
        "Y_pred_Per=Per.predict(X_test)\n",
        "Per_train_score=Per.score(X_train, y_train)\n",
        "Per_test_score=Per.score(X_test, y_test)\n",
        "Y_pred_Per_test=Per.predict(predictX)\n",
        "pickle.dump(Per, open('/content/gdrive/MyDrive/資料科學家/第八堂課程練習/pkl/'+'Perceptron'+'.pkl', 'wb'))"
      ],
      "metadata": {
        "id": "azqKlg2Lh7tn"
      },
      "execution_count": null,
      "outputs": []
    },
    {
      "cell_type": "code",
      "source": [
        "output(\"Perceptron\",Y_pred_Per,Per_train_score,Per_test_score,Y_pred_Per_test)"
      ],
      "metadata": {
        "colab": {
          "base_uri": "https://localhost:8080/"
        },
        "id": "asbcRadAqJiP",
        "outputId": "1a9c8df7-f43b-4860-a7dc-5d53fe7b5848"
      },
      "execution_count": null,
      "outputs": [
        {
          "output_type": "stream",
          "name": "stderr",
          "text": [
            "/usr/local/lib/python3.7/dist-packages/sklearn/metrics/_classification.py:1318: UndefinedMetricWarning: Precision is ill-defined and being set to 0.0 in labels with no predicted samples. Use `zero_division` parameter to control this behavior.\n",
            "  _warn_prf(average, modifier, msg_start, len(result))\n"
          ]
        },
        {
          "output_type": "stream",
          "name": "stdout",
          "text": [
            "['0' '0' '0' '0' '0' '0' '0' '0' '0' '0' '2' '0' '0' '0' '0' '2' '0' '0'\n",
            " '0' '0' '0' '0' '0' '0' '0' '1' '0' '0' '0' '0' '0' '1' '0' '0' '1' '0'\n",
            " '0' '0' '0' '0' '0' '0' '0' '0' '0' '0' '0' '0' '0'] ['0' '0' '0' '0' '0' '0' '0' '0' '0' '0' '2' '0' '0' '0' '0' '2' '0' '0'\n",
            " '0' '0' '0' '0' '0' '0' '0' '0' '0' '0' '0' '0' '0' '0' '0' '0' '0' '0'\n",
            " '0' '0' '0' '0' '0' '0' '0' '0' '0' '0' '0' '0' '0']\n",
            "        Train  accuracy   test  precision  recall  fscore\n",
            "0  Perceptron     96.92  93.88      64.54   66.67   65.57\n"
          ]
        },
        {
          "output_type": "display_data",
          "data": {
            "text/plain": [
              "<Figure size 432x288 with 1 Axes>"
            ],
            "image/png": "[encoded data removed]"
          },
          "metadata": {
            "needs_background": "light"
          }
        }
      ]
    },
    {
      "cell_type": "markdown",
      "source": [
        "#### Stochastic Gradient Decent"
      ],
      "metadata": {
        "id": "pKKp9wwsh74-"
      }
    },
    {
      "cell_type": "code",
      "source": [
        "from sklearn.linear_model import SGDClassifier\n",
        "SGD = SGDClassifier()\n",
        "SGD.fit(X_train,y_train)\n",
        "Y_pred_SGD=SGD.predict(X_test)\n",
        "SGD_train_score=SGD.score(X_train, y_train)\n",
        "SGD_test_score=SGD.score(X_test, y_test)\n",
        "Y_pred_SGD_test=SGD.predict(predictX)\n",
        "pickle.dump(SGD, open('/content/gdrive/MyDrive/資料科學家/第八堂課程練習/pkl/'+'Stochastic Gradient Decent'+'.pkl', 'wb'))"
      ],
      "metadata": {
        "id": "h0h-xhCLh_km"
      },
      "execution_count": null,
      "outputs": []
    },
    {
      "cell_type": "code",
      "source": [
        "output(\"Stochastic Gradient Decent\",Y_pred_SGD,SGD_train_score,SGD_test_score,Y_pred_SGD_test)"
      ],
      "metadata": {
        "colab": {
          "base_uri": "https://localhost:8080/"
        },
        "id": "MABDo6jgppPb",
        "outputId": "0ab87380-8c91-43ff-d4f9-3418097d2570"
      },
      "execution_count": null,
      "outputs": [
        {
          "output_type": "stream",
          "name": "stderr",
          "text": [
            "/usr/local/lib/python3.7/dist-packages/sklearn/metrics/_classification.py:1318: UndefinedMetricWarning: Precision is ill-defined and being set to 0.0 in labels with no predicted samples. Use `zero_division` parameter to control this behavior.\n",
            "  _warn_prf(average, modifier, msg_start, len(result))\n"
          ]
        },
        {
          "output_type": "stream",
          "name": "stdout",
          "text": [
            "['0' '0' '0' '0' '0' '0' '0' '0' '0' '0' '2' '0' '0' '0' '0' '2' '0' '0'\n",
            " '0' '0' '0' '0' '0' '0' '0' '1' '0' '0' '0' '0' '0' '1' '0' '0' '1' '0'\n",
            " '0' '0' '0' '0' '0' '0' '0' '0' '0' '0' '0' '0' '0'] ['0' '0' '0' '0' '0' '0' '0' '0' '0' '0' '2' '0' '0' '0' '0' '2' '0' '0'\n",
            " '0' '0' '0' '0' '0' '0' '0' '2' '0' '0' '0' '0' '0' '2' '0' '0' '2' '0'\n",
            " '0' '0' '0' '0' '0' '0' '0' '0' '0' '0' '0' '0' '0']\n",
            "                        Train  accuracy   test  precision  recall  fscore\n",
            "0  Stochastic Gradient Decent     97.44  93.88      46.67   66.67   52.38\n"
          ]
        },
        {
          "output_type": "display_data",
          "data": {
            "text/plain": [
              "<Figure size 432x288 with 1 Axes>"
            ],
            "image/png": "[encoded data removed]"
          },
          "metadata": {
            "needs_background": "light"
          }
        }
      ]
    },
    {
      "cell_type": "markdown",
      "source": [
        "#### Linear SVC"
      ],
      "metadata": {
        "id": "61PrMsIxh_u3"
      }
    },
    {
      "cell_type": "code",
      "source": [
        "from sklearn import svm\n",
        "Lsvc = svm.LinearSVC(random_state=0)\n",
        "Lsvc.fit(X_train,y_train)\n",
        "Y_pred_Lsvc=Lsvc.predict(X_test)\n",
        "Lsvc_train_score=Lsvc.score(X_train, y_train)\n",
        "Lsvc_test_score=Lsvc.score(X_test, y_test)\n",
        "Y_pred_Lsvc_test=Lsvc.predict(predictX)\n",
        "pickle.dump(Lsvc, open('/content/gdrive/MyDrive/資料科學家/第八堂課程練習/pkl/'+'Linear SVC'+'.pkl', 'wb'))"
      ],
      "metadata": {
        "id": "yrGonykMiEZ_",
        "colab": {
          "base_uri": "https://localhost:8080/"
        },
        "outputId": "d43b8af1-1d27-4f6b-9891-b362a74aaff4"
      },
      "execution_count": null,
      "outputs": [
        {
          "output_type": "stream",
          "name": "stderr",
          "text": [
            "/usr/local/lib/python3.7/dist-packages/sklearn/svm/_base.py:1208: ConvergenceWarning: Liblinear failed to converge, increase the number of iterations.\n",
            "  ConvergenceWarning,\n"
          ]
        }
      ]
    },
    {
      "cell_type": "code",
      "source": [
        "output(\"Linear SVC\",Y_pred_Lsvc,Lsvc_train_score,Lsvc_test_score,Y_pred_Lsvc_test)"
      ],
      "metadata": {
        "colab": {
          "base_uri": "https://localhost:8080/"
        },
        "id": "yXHB3WvlvYx7",
        "outputId": "511b82c2-7f9a-4503-ca76-efe2c9ffc054"
      },
      "execution_count": null,
      "outputs": [
        {
          "output_type": "stream",
          "name": "stderr",
          "text": [
            "/usr/local/lib/python3.7/dist-packages/sklearn/metrics/_classification.py:1318: UndefinedMetricWarning: Precision is ill-defined and being set to 0.0 in labels with no predicted samples. Use `zero_division` parameter to control this behavior.\n",
            "  _warn_prf(average, modifier, msg_start, len(result))\n"
          ]
        },
        {
          "output_type": "stream",
          "name": "stdout",
          "text": [
            "['0' '0' '0' '0' '0' '0' '0' '0' '0' '0' '2' '0' '0' '0' '0' '2' '0' '0'\n",
            " '0' '0' '0' '0' '0' '0' '0' '1' '0' '0' '0' '0' '0' '1' '0' '0' '1' '0'\n",
            " '0' '0' '0' '0' '0' '0' '0' '0' '0' '0' '0' '0' '0'] ['0' '0' '0' '0' '0' '0' '0' '0' '0' '0' '1' '0' '0' '0' '0' '1' '0' '0'\n",
            " '0' '0' '0' '0' '0' '0' '0' '0' '0' '0' '0' '0' '0' '1' '0' '0' '0' '0'\n",
            " '0' '0' '0' '0' '0' '0' '0' '0' '0' '0' '0' '0' '0']\n",
            "        Train  accuracy   test  precision  recall  fscore\n",
            "0  Linear SVC     95.38  91.84       43.0   44.44    43.7\n"
          ]
        },
        {
          "output_type": "display_data",
          "data": {
            "text/plain": [
              "<Figure size 432x288 with 1 Axes>"
            ],
            "image/png": "[encoded data removed]"
          },
          "metadata": {
            "needs_background": "light"
          }
        }
      ]
    },
    {
      "cell_type": "markdown",
      "source": [
        "#### Descion Tree3、4、5\n"
      ],
      "metadata": {
        "id": "XajrAqQBF-pw"
      }
    },
    {
      "cell_type": "markdown",
      "source": [
        "參考資料:\n",
        "\n",
        "https://www.796t.com/content/1546975998.html\n",
        "\n",
        "https://scikit-learn.org/stable/modules/generated/sklearn.tree.DecisionTreeClassifier.html?highlight=decision+tree"
      ],
      "metadata": {
        "id": "5BlPDOI5na4N"
      }
    },
    {
      "cell_type": "code",
      "source": [
        "from sklearn.tree import DecisionTreeClassifier\n",
        "for i in range(3,6,1):\n",
        "  number_str=str(i)\n",
        "  Dtree=DecisionTreeClassifier(max_depth=i)\n",
        "  Dtree.fit(X_train,y_train)\n",
        "  Y_pred_Dtree=Dtree.predict(X_test)\n",
        "  Dtree_train_score=Dtree.score(X_train, y_train)\n",
        "  Dtree_test_score=Dtree.score(X_test, y_test)\n",
        "  Y_pred_Dtree_test=Dtree.predict(predictX)\n",
        "  pickle.dump(Dtree, open('/content/gdrive/MyDrive/資料科學家/第八堂課程練習/pkl/'+'Descion Tree'+number_str+'.pkl', 'wb'))\n",
        "  output('Descion Tree'+number_str,Y_pred_Dtree,Dtree_train_score,Dtree_test_score,Y_pred_Dtree_test)"
      ],
      "metadata": {
        "id": "A8GJSJMsF-pw",
        "colab": {
          "base_uri": "https://localhost:8080/"
        },
        "outputId": "0d5d2f84-aedb-4a73-9b64-47b25d64a207"
      },
      "execution_count": null,
      "outputs": [
        {
          "output_type": "stream",
          "name": "stdout",
          "text": [
            "['0' '0' '0' '0' '0' '0' '0' '0' '0' '0' '2' '0' '0' '0' '0' '2' '0' '0'\n",
            " '0' '0' '0' '0' '0' '0' '0' '1' '0' '0' '0' '0' '0' '1' '0' '0' '1' '0'\n",
            " '0' '0' '0' '0' '0' '0' '0' '0' '0' '0' '0' '0' '0'] ['0' '0' '0' '0' '0' '0' '0' '0' '0' '0' '2' '0' '0' '0' '0' '2' '0' '0'\n",
            " '0' '0' '0' '0' '0' '0' '0' '1' '0' '0' '0' '0' '0' '1' '0' '0' '2' '0'\n",
            " '0' '0' '0' '0' '0' '0' '0' '0' '0' '0' '0' '0' '0']\n",
            "           Train  accuracy   test  precision  recall  fscore\n",
            "0  Descion Tree3     98.97  97.96      88.89   88.89   86.67\n"
          ]
        },
        {
          "output_type": "display_data",
          "data": {
            "text/plain": [
              "<Figure size 432x288 with 1 Axes>"
            ],
            "image/png": "[encoded data removed]"
          },
          "metadata": {
            "needs_background": "light"
          }
        },
        {
          "output_type": "stream",
          "name": "stdout",
          "text": [
            "['0' '0' '0' '0' '0' '0' '0' '0' '0' '0' '2' '0' '0' '0' '0' '2' '0' '0'\n",
            " '0' '0' '0' '0' '0' '0' '0' '1' '0' '0' '0' '0' '0' '1' '0' '0' '1' '0'\n",
            " '0' '0' '0' '0' '0' '0' '0' '0' '0' '0' '0' '0' '0'] ['0' '0' '0' '0' '0' '0' '0' '0' '0' '0' '2' '0' '0' '0' '0' '2' '0' '0'\n",
            " '0' '0' '0' '0' '0' '0' '0' '1' '0' '0' '0' '0' '0' '1' '0' '0' '1' '0'\n",
            " '0' '0' '0' '0' '0' '0' '0' '0' '0' '0' '0' '0' '0']\n",
            "           Train  accuracy   test  precision  recall  fscore\n",
            "0  Descion Tree4     99.49  100.0      100.0   100.0   100.0\n"
          ]
        },
        {
          "output_type": "display_data",
          "data": {
            "text/plain": [
              "<Figure size 432x288 with 1 Axes>"
            ],
            "image/png": "[encoded data removed]"
          },
          "metadata": {
            "needs_background": "light"
          }
        },
        {
          "output_type": "stream",
          "name": "stdout",
          "text": [
            "['0' '0' '0' '0' '0' '0' '0' '0' '0' '0' '2' '0' '0' '0' '0' '2' '0' '0'\n",
            " '0' '0' '0' '0' '0' '0' '0' '1' '0' '0' '0' '0' '0' '1' '0' '0' '1' '0'\n",
            " '0' '0' '0' '0' '0' '0' '0' '0' '0' '0' '0' '0' '0'] ['0' '0' '0' '0' '0' '0' '0' '0' '0' '0' '2' '0' '0' '0' '0' '2' '0' '0'\n",
            " '0' '0' '0' '0' '0' '0' '0' '1' '0' '0' '0' '0' '0' '1' '0' '0' '1' '0'\n",
            " '0' '0' '0' '0' '0' '0' '0' '0' '0' '0' '0' '0' '0']\n",
            "           Train  accuracy   test  precision  recall  fscore\n",
            "0  Descion Tree5     99.49  100.0      100.0   100.0   100.0\n"
          ]
        },
        {
          "output_type": "display_data",
          "data": {
            "text/plain": [
              "<Figure size 432x288 with 1 Axes>"
            ],
            "image/png": "[encoded data removed]"
          },
          "metadata": {
            "needs_background": "light"
          }
        }
      ]
    },
    {
      "cell_type": "markdown",
      "source": [
        "#### MultinomialNB"
      ],
      "metadata": {
        "id": "mQeJddpziT9W"
      }
    },
    {
      "cell_type": "code",
      "source": [
        "from sklearn.naive_bayes import MultinomialNB\n",
        "Mnb= MultinomialNB()\n",
        "Mnb.fit(X_train,y_train)\n",
        "Y_pred_Mnb=Mnb.predict(X_test)\n",
        "Mnb_train_score=Mnb.score(X_train, y_train)\n",
        "Mnb_test_score=Mnb.score(X_test, y_test)\n",
        "Y_pred_Mnb_test=Mnb.predict(predictX)\n",
        "pickle.dump(Mnb, open('/content/gdrive/MyDrive/資料科學家/第八堂課程練習/pkl/'+'MultinomialNB'+'.pkl', 'wb'))"
      ],
      "metadata": {
        "id": "8TOepKOiiW09"
      },
      "execution_count": null,
      "outputs": []
    },
    {
      "cell_type": "code",
      "source": [
        "output(\"MultinomialNB\",Y_pred_Mnb,Mnb_train_score,Mnb_test_score,Y_pred_Mnb_test)"
      ],
      "metadata": {
        "colab": {
          "base_uri": "https://localhost:8080/"
        },
        "id": "am8dG2iuy8TM",
        "outputId": "2717fddf-68d6-4e12-c331-1c0f4b7b5931"
      },
      "execution_count": null,
      "outputs": [
        {
          "output_type": "stream",
          "name": "stderr",
          "text": [
            "/usr/local/lib/python3.7/dist-packages/sklearn/metrics/_classification.py:1318: UndefinedMetricWarning: Precision is ill-defined and being set to 0.0 in labels with no predicted samples. Use `zero_division` parameter to control this behavior.\n",
            "  _warn_prf(average, modifier, msg_start, len(result))\n"
          ]
        },
        {
          "output_type": "stream",
          "name": "stdout",
          "text": [
            "['0' '0' '0' '0' '0' '0' '0' '0' '0' '0' '2' '0' '0' '0' '0' '2' '0' '0'\n",
            " '0' '0' '0' '0' '0' '0' '0' '1' '0' '0' '0' '0' '0' '1' '0' '0' '1' '0'\n",
            " '0' '0' '0' '0' '0' '0' '0' '0' '0' '0' '0' '0' '0'] ['0' '0' '0' '0' '0' '0' '0' '0' '0' '0' '0' '0' '0' '0' '0' '0' '0' '0'\n",
            " '0' '0' '0' '0' '0' '0' '0' '0' '0' '0' '0' '0' '0' '0' '0' '0' '0' '0'\n",
            " '0' '0' '0' '0' '0' '0' '0' '0' '0' '0' '0' '0' '0']\n",
            "           Train  accuracy  test  precision  recall  fscore\n",
            "0  MultinomialNB     95.38  89.8      29.93   33.33   31.54\n"
          ]
        },
        {
          "output_type": "display_data",
          "data": {
            "text/plain": [
              "<Figure size 432x288 with 1 Axes>"
            ],
            "image/png": "[encoded data removed]"
          },
          "metadata": {
            "needs_background": "light"
          }
        }
      ]
    },
    {
      "cell_type": "markdown",
      "source": [
        "#### Complement NB"
      ],
      "metadata": {
        "id": "C2sV4_hyiW9x"
      }
    },
    {
      "cell_type": "code",
      "source": [
        "from sklearn.naive_bayes import ComplementNB\n",
        "ComNB = ComplementNB()\n",
        "ComNB.fit(X_train,y_train)\n",
        "Y_pred_ComNB=ComNB.predict(X_test)\n",
        "ComNB_train_score=ComNB.score(X_train, y_train)\n",
        "ComNB_test_score=ComNB.score(X_test, y_test)\n",
        "Y_pred_ComNB_test=ComNB.predict(predictX)\n",
        "pickle.dump(ComNB, open('/content/gdrive/MyDrive/資料科學家/第八堂課程練習/pkl/'+'Complement NB'+'.pkl', 'wb'))"
      ],
      "metadata": {
        "id": "l3G5cvjhiZGd"
      },
      "execution_count": null,
      "outputs": []
    },
    {
      "cell_type": "code",
      "source": [
        "output(\"Complement NB\",Y_pred_ComNB,ComNB_train_score,ComNB_test_score,Y_pred_ComNB_test)"
      ],
      "metadata": {
        "colab": {
          "base_uri": "https://localhost:8080/"
        },
        "id": "EApMSiXtzUWV",
        "outputId": "dc596e98-8dad-4377-cdbe-27a9e4d78bf8"
      },
      "execution_count": null,
      "outputs": [
        {
          "output_type": "stream",
          "name": "stderr",
          "text": [
            "/usr/local/lib/python3.7/dist-packages/sklearn/metrics/_classification.py:1318: UndefinedMetricWarning: Precision is ill-defined and being set to 0.0 in labels with no predicted samples. Use `zero_division` parameter to control this behavior.\n",
            "  _warn_prf(average, modifier, msg_start, len(result))\n"
          ]
        },
        {
          "output_type": "stream",
          "name": "stdout",
          "text": [
            "['0' '0' '0' '0' '0' '0' '0' '0' '0' '0' '2' '0' '0' '0' '0' '2' '0' '0'\n",
            " '0' '0' '0' '0' '0' '0' '0' '1' '0' '0' '0' '0' '0' '1' '0' '0' '1' '0'\n",
            " '0' '0' '0' '0' '0' '0' '0' '0' '0' '0' '0' '0' '0'] ['0' '0' '0' '0' '0' '0' '0' '0' '0' '0' '2' '0' '0' '0' '0' '2' '0' '0'\n",
            " '0' '0' '0' '0' '0' '0' '0' '2' '0' '0' '0' '0' '0' '2' '0' '0' '2' '0'\n",
            " '0' '0' '0' '0' '0' '0' '0' '0' '0' '0' '0' '0' '0']\n",
            "           Train  accuracy   test  precision  recall  fscore\n",
            "0  Complement NB     97.44  93.88      46.67   66.67   52.38\n"
          ]
        },
        {
          "output_type": "display_data",
          "data": {
            "text/plain": [
              "<Figure size 432x288 with 1 Axes>"
            ],
            "image/png": "[encoded data removed]"
          },
          "metadata": {
            "needs_background": "light"
          }
        }
      ]
    },
    {
      "cell_type": "markdown",
      "source": [
        "#### BernoulliNB"
      ],
      "metadata": {
        "id": "M1xz4oaIicpJ"
      }
    },
    {
      "cell_type": "code",
      "source": [
        "from sklearn.naive_bayes import BernoulliNB\n",
        "Bnb= BernoulliNB()\n",
        "Bnb.fit(X_train,y_train)\n",
        "Y_pred_Bnb=Bnb.predict(X_test)\n",
        "Bnb_train_score=Bnb.score(X_train, y_train)\n",
        "Bnb_test_score=Bnb.score(X_test, y_test)\n",
        "Y_pred_Bnb_test=Bnb.predict(predictX)\n",
        "pickle.dump(Bnb, open('/content/gdrive/MyDrive/資料科學家/第八堂課程練習/pkl/'+'BernoulliNB'+'.pkl', 'wb'))\n",
        "#print(Y_pred_Bnb,\"      \",Bnb_train_score,\"      \",Bnb_test_score,\"      \",Y_pred_Bnb_test)"
      ],
      "metadata": {
        "id": "fy3M_0BJifId"
      },
      "execution_count": null,
      "outputs": []
    },
    {
      "cell_type": "code",
      "source": [
        "output(\"BernoulliNB\",Y_pred_Bnb,Bnb_train_score,Bnb_test_score,Y_pred_Bnb_test)"
      ],
      "metadata": {
        "colab": {
          "base_uri": "https://localhost:8080/"
        },
        "id": "7JIK6MRwz0JJ",
        "outputId": "05e4c1fb-064f-4481-e871-86dca7e0f935"
      },
      "execution_count": null,
      "outputs": [
        {
          "output_type": "stream",
          "name": "stderr",
          "text": [
            "/usr/local/lib/python3.7/dist-packages/sklearn/metrics/_classification.py:1318: UndefinedMetricWarning: Precision is ill-defined and being set to 0.0 in labels with no predicted samples. Use `zero_division` parameter to control this behavior.\n",
            "  _warn_prf(average, modifier, msg_start, len(result))\n"
          ]
        },
        {
          "output_type": "stream",
          "name": "stdout",
          "text": [
            "['0' '0' '0' '0' '0' '0' '0' '0' '0' '0' '2' '0' '0' '0' '0' '2' '0' '0'\n",
            " '0' '0' '0' '0' '0' '0' '0' '1' '0' '0' '0' '0' '0' '1' '0' '0' '1' '0'\n",
            " '0' '0' '0' '0' '0' '0' '0' '0' '0' '0' '0' '0' '0'] ['0' '0' '0' '0' '0' '0' '0' '0' '0' '0' '0' '0' '0' '0' '0' '0' '0' '0'\n",
            " '0' '0' '0' '0' '0' '0' '0' '0' '0' '0' '0' '0' '0' '0' '0' '0' '0' '0'\n",
            " '0' '0' '0' '0' '0' '0' '0' '0' '0' '0' '0' '0' '0']\n",
            "         Train  accuracy  test  precision  recall  fscore\n",
            "0  BernoulliNB     95.38  89.8      29.93   33.33   31.54\n"
          ]
        },
        {
          "output_type": "display_data",
          "data": {
            "text/plain": [
              "<Figure size 432x288 with 1 Axes>"
            ],
            "image/png": "[encoded data removed]"
          },
          "metadata": {
            "needs_background": "light"
          }
        }
      ]
    },
    {
      "cell_type": "markdown",
      "source": [
        "#### Bayesian Regression"
      ],
      "metadata": {
        "id": "KawL1RQaifQi"
      }
    },
    {
      "cell_type": "code",
      "source": [
        "from sklearn.linear_model import BayesianRidge\n",
        "BayReg=BayesianRidge()\n",
        "BayReg.fit(X_train,y_train)\n",
        "Y_pred_BayReg=BayReg.predict(X_test).round(0).astype(int).astype(str)\n",
        "BayReg_train_score=BayReg.score(X_train, y_train)\n",
        "BayReg_test_score=BayReg.score(X_test, y_test)\n",
        "Y_pred_BayReg_test=BayReg.predict(predictX).round(0).astype(int).astype(str)\n",
        "pickle.dump(BayReg, open('/content/gdrive/MyDrive/資料科學家/第八堂課程練習/pkl/'+'Bayesian Regression'+'.pkl', 'wb'))\n",
        "#print(Y_pred_BayReg,\"   \",BayReg_train_score,\"   \",BayReg_test_score,\"   \",Y_pred_BayReg_test)"
      ],
      "metadata": {
        "id": "82VCin4qiiHo"
      },
      "execution_count": null,
      "outputs": []
    },
    {
      "cell_type": "code",
      "source": [
        "output(\"Bayesian Regression\",Y_pred_BayReg,BayReg_train_score,BayReg_test_score,Y_pred_BayReg_test)"
      ],
      "metadata": {
        "id": "DZNJCuLCz0mb",
        "colab": {
          "base_uri": "https://localhost:8080/"
        },
        "outputId": "0d3e157a-7327-4af6-fec5-942c56a65249"
      },
      "execution_count": null,
      "outputs": [
        {
          "output_type": "stream",
          "name": "stdout",
          "text": [
            "['0' '0' '0' '0' '0' '0' '0' '0' '0' '0' '2' '0' '0' '0' '0' '2' '0' '0'\n",
            " '0' '0' '0' '0' '0' '0' '0' '1' '0' '0' '0' '0' '0' '1' '0' '0' '1' '0'\n",
            " '0' '0' '0' '0' '0' '0' '0' '0' '0' '0' '0' '0' '0'] ['0' '0' '0' '0' '0' '0' '0' '0' '0' '0' '2' '0' '0' '0' '0' '2' '0' '0'\n",
            " '0' '0' '0' '0' '0' '0' '0' '1' '0' '0' '0' '0' '0' '1' '0' '0' '1' '0'\n",
            " '0' '0' '0' '0' '0' '0' '0' '0' '0' '0' '0' '0' '0']\n",
            "                 Train  accuracy  test  precision  recall  fscore\n",
            "0  Bayesian Regression     80.58  94.8      100.0   100.0   100.0\n"
          ]
        },
        {
          "output_type": "display_data",
          "data": {
            "text/plain": [
              "<Figure size 432x288 with 1 Axes>"
            ],
            "image/png": "[encoded data removed]"
          },
          "metadata": {
            "needs_background": "light"
          }
        }
      ]
    },
    {
      "cell_type": "markdown",
      "source": [
        "#### Logistic Regression(題目重複)"
      ],
      "metadata": {
        "id": "uusWbBIaiiP2"
      }
    },
    {
      "cell_type": "code",
      "source": [
        "from sklearn.linear_model import LogisticRegression\n",
        "logreg=LogisticRegression()\n",
        "logreg.fit(X_train,y_train)\n",
        "Y_pred_logreg=logreg.predict(X_test)\n",
        "logreg_train_score=logreg.score(X_train, y_train)\n",
        "logreg_test_score=logreg.score(X_test, y_test)\n",
        "Y_pred_logreg_test=logreg.predict(predictX)\n",
        "pickle.dump(logreg, open('/content/gdrive/MyDrive/資料科學家/第八堂課程練習/pkl/'+'Logistic Regression'+'.pkl', 'wb'))"
      ],
      "metadata": {
        "id": "gt5w6-z-ikIW",
        "colab": {
          "base_uri": "https://localhost:8080/"
        },
        "outputId": "9af9dfee-3f49-4137-d329-061f1beb1eac"
      },
      "execution_count": null,
      "outputs": [
        {
          "output_type": "stream",
          "name": "stderr",
          "text": [
            "/usr/local/lib/python3.7/dist-packages/sklearn/linear_model/_logistic.py:818: ConvergenceWarning: lbfgs failed to converge (status=1):\n",
            "STOP: TOTAL NO. of ITERATIONS REACHED LIMIT.\n",
            "\n",
            "Increase the number of iterations (max_iter) or scale the data as shown in:\n",
            "    https://scikit-learn.org/stable/modules/preprocessing.html\n",
            "Please also refer to the documentation for alternative solver options:\n",
            "    https://scikit-learn.org/stable/modules/linear_model.html#logistic-regression\n",
            "  extra_warning_msg=_LOGISTIC_SOLVER_CONVERGENCE_MSG,\n"
          ]
        }
      ]
    },
    {
      "cell_type": "code",
      "source": [
        "output(\"Logistic Regression\",Y_pred_logreg,logreg_train_score,logreg_test_score,Y_pred_logreg_test)"
      ],
      "metadata": {
        "colab": {
          "base_uri": "https://localhost:8080/"
        },
        "id": "ahEALOOpz1Ea",
        "outputId": "1d3c2762-0bf0-4abf-b078-1113d214d282"
      },
      "execution_count": null,
      "outputs": [
        {
          "output_type": "stream",
          "name": "stdout",
          "text": [
            "['0' '0' '0' '0' '0' '0' '0' '0' '0' '0' '2' '0' '0' '0' '0' '2' '0' '0'\n",
            " '0' '0' '0' '0' '0' '0' '0' '1' '0' '0' '0' '0' '0' '1' '0' '0' '1' '0'\n",
            " '0' '0' '0' '0' '0' '0' '0' '0' '0' '0' '0' '0' '0'] ['0' '0' '0' '0' '0' '0' '0' '0' '0' '0' '2' '0' '0' '0' '0' '2' '0' '0'\n",
            " '0' '0' '0' '0' '0' '0' '0' '1' '0' '0' '0' '0' '0' '1' '0' '0' '1' '0'\n",
            " '0' '0' '0' '0' '0' '0' '0' '0' '0' '0' '0' '0' '0']\n",
            "                 Train  accuracy   test  precision  recall  fscore\n",
            "0  Logistic Regression     98.46  100.0      100.0   100.0   100.0\n"
          ]
        },
        {
          "output_type": "display_data",
          "data": {
            "text/plain": [
              "<Figure size 432x288 with 1 Axes>"
            ],
            "image/png": "[encoded data removed]"
          },
          "metadata": {
            "needs_background": "light"
          }
        }
      ]
    },
    {
      "cell_type": "markdown",
      "source": [
        "#### Generalized Linear Regression"
      ],
      "metadata": {
        "id": "ybMt8ncnikSF"
      }
    },
    {
      "cell_type": "code",
      "source": [
        "from sklearn.linear_model import LinearRegression\n",
        "GLR=LinearRegression()\n",
        "GLR.fit(X_train,y_train)\n",
        "Y_pred_GLR=GLR.predict(X_test).round(0).astype(int).astype(str)\n",
        "GLR_train_score=GLR.score(X_train, y_train)\n",
        "GLR_test_score=GLR.score(X_test, y_test)\n",
        "Y_pred_GLR_test=GLR.predict(predictX).round(0).astype(int).astype(str)\n",
        "pickle.dump(GLR, open('/content/gdrive/MyDrive/資料科學家/第八堂課程練習/pkl/'+'Generalized Linear Regression'+'.pkl', 'wb'))"
      ],
      "metadata": {
        "id": "1hXW3Go6im0-"
      },
      "execution_count": null,
      "outputs": []
    },
    {
      "cell_type": "code",
      "source": [
        "output(\"Generalized Linear Regression\",Y_pred_GLR,GLR_train_score,GLR_test_score,Y_pred_GLR_test)"
      ],
      "metadata": {
        "id": "1Uf9EZQhz1n8",
        "colab": {
          "base_uri": "https://localhost:8080/"
        },
        "outputId": "35034de7-a839-4c20-8323-e82685ee79ff"
      },
      "execution_count": null,
      "outputs": [
        {
          "output_type": "stream",
          "name": "stdout",
          "text": [
            "['0' '0' '0' '0' '0' '0' '0' '0' '0' '0' '2' '0' '0' '0' '0' '2' '0' '0'\n",
            " '0' '0' '0' '0' '0' '0' '0' '1' '0' '0' '0' '0' '0' '1' '0' '0' '1' '0'\n",
            " '0' '0' '0' '0' '0' '0' '0' '0' '0' '0' '0' '0' '0'] ['0' '0' '0' '0' '0' '0' '0' '0' '0' '0' '2' '0' '0' '0' '0' '2' '0' '0'\n",
            " '0' '0' '0' '0' '0' '0' '0' '1' '0' '0' '0' '0' '0' '1' '0' '0' '1' '0'\n",
            " '0' '0' '0' '0' '0' '0' '0' '0' '0' '0' '0' '0' '0']\n",
            "                           Train  accuracy   test  precision  recall  fscore\n",
            "0  Generalized Linear Regression     80.62  94.45      100.0   100.0   100.0\n"
          ]
        },
        {
          "output_type": "display_data",
          "data": {
            "text/plain": [
              "<Figure size 432x288 with 1 Axes>"
            ],
            "image/png": "[encoded data removed]"
          },
          "metadata": {
            "needs_background": "light"
          }
        }
      ]
    },
    {
      "cell_type": "markdown",
      "source": [
        "#### Gaussian Process Regression (GPR)"
      ],
      "metadata": {
        "id": "khf4Ndtaim7F"
      }
    },
    {
      "cell_type": "code",
      "source": [
        "from sklearn.gaussian_process import GaussianProcessRegressor\n",
        "GPR=GaussianProcessRegressor()\n",
        "GPR.fit(X_train,y_train)\n",
        "Y_pred_GPR=GPR.predict(X_test).round(0).astype(int).astype(str)\n",
        "GPR_train_score=GPR.score(X_train, y_train)\n",
        "GPR_test_score=GPR.score(X_test, y_test)\n",
        "Y_pred_GPR_test=GPR.predict(predictX).round(0).astype(int).astype(str)\n",
        "pickle.dump(GPR, open('/content/gdrive/MyDrive/資料科學家/第八堂課程練習/pkl/'+'GaussianProcessRegressor'+'.pkl', 'wb'))\n",
        "#print(Y_pred_GPR,\"   \",GPR_train_score,\"   \",GPR_test_score,\"   \",Y_pred_GPR_test)"
      ],
      "metadata": {
        "id": "iP-gZK3tipSm"
      },
      "execution_count": null,
      "outputs": []
    },
    {
      "cell_type": "code",
      "source": [
        "output(\"GaussianProcessRegressor\",Y_pred_GPR,GPR_train_score,GPR_test_score,Y_pred_GPR_test)"
      ],
      "metadata": {
        "colab": {
          "base_uri": "https://localhost:8080/"
        },
        "id": "R5tbe0Vgz2HO",
        "outputId": "13f463dc-a602-4c27-d78a-16042a99a4d6"
      },
      "execution_count": null,
      "outputs": [
        {
          "output_type": "stream",
          "name": "stderr",
          "text": [
            "/usr/local/lib/python3.7/dist-packages/sklearn/metrics/_classification.py:1318: UndefinedMetricWarning: Precision is ill-defined and being set to 0.0 in labels with no predicted samples. Use `zero_division` parameter to control this behavior.\n",
            "  _warn_prf(average, modifier, msg_start, len(result))\n"
          ]
        },
        {
          "output_type": "stream",
          "name": "stdout",
          "text": [
            "['0' '0' '0' '0' '0' '0' '0' '0' '0' '0' '2' '0' '0' '0' '0' '2' '0' '0'\n",
            " '0' '0' '0' '0' '0' '0' '0' '1' '0' '0' '0' '0' '0' '1' '0' '0' '1' '0'\n",
            " '0' '0' '0' '0' '0' '0' '0' '0' '0' '0' '0' '0' '0'] ['0' '0' '0' '0' '0' '0' '0' '0' '0' '0' '1' '0' '0' '0' '0' '1' '0' '0'\n",
            " '0' '0' '0' '0' '0' '0' '0' '1' '0' '0' '0' '0' '0' '0' '0' '0' '0' '0'\n",
            " '0' '0' '0' '0' '0' '0' '0' '0' '0' '0' '0' '0' '0']\n",
            "                      Train  accuracy   test  precision  recall  fscore\n",
            "0  GaussianProcessRegressor     100.0  37.48       43.0   44.44    43.7\n"
          ]
        },
        {
          "output_type": "display_data",
          "data": {
            "text/plain": [
              "<Figure size 432x288 with 1 Axes>"
            ],
            "image/png": "[encoded data removed]"
          },
          "metadata": {
            "needs_background": "light"
          }
        }
      ]
    },
    {
      "cell_type": "markdown",
      "source": [
        "#### Categorical NB"
      ],
      "metadata": {
        "id": "gMvtKJBCiZH5"
      }
    },
    {
      "cell_type": "code",
      "source": [
        "from sklearn.naive_bayes import CategoricalNB\n",
        "CateNB= CategoricalNB(min_categories=Xdata.nunique())\n",
        "int_X_train=X_train.copy().astype(float)\n",
        "int_X_test=X_test.copy().astype(float)\n",
        "int_predictX=predictX.copy().astype(float)\n",
        "\n",
        "CateNB.fit(int_X_train,y_train)\n",
        "Y_pred_CateNB=CateNB.predict(int_X_test)\n",
        "#print(int_X_train.shape, y_train.shape)\n",
        "CateNB_train_score=CateNB.score(int_X_train, y_train)\n",
        "\n",
        "CateNB_test_score=CateNB.score(int_X_test, y_test)\n",
        "Y_pred_CateNB_test=CateNB.predict(int_predictX)\n",
        "pickle.dump(CateNB, open('/content/gdrive/MyDrive/資料科學家/第八堂課程練習/pkl/'+'Categorical NB'+'.pkl', 'wb'))\n",
        "#print(Y_pred_CateNB_test)"
      ],
      "metadata": {
        "id": "FxP9P8EJickN"
      },
      "execution_count": null,
      "outputs": []
    },
    {
      "cell_type": "code",
      "source": [
        "output(\"Categorical NB\",Y_pred_CateNB,CateNB_train_score,CateNB_test_score,Y_pred_CateNB_test)"
      ],
      "metadata": {
        "colab": {
          "base_uri": "https://localhost:8080/"
        },
        "id": "1G2Pq8l9ty9l",
        "outputId": "6d47c6f3-647b-4b3f-cb84-ce676b0d3741"
      },
      "execution_count": null,
      "outputs": [
        {
          "output_type": "stream",
          "name": "stderr",
          "text": [
            "/usr/local/lib/python3.7/dist-packages/sklearn/metrics/_classification.py:1318: UndefinedMetricWarning: Precision is ill-defined and being set to 0.0 in labels with no predicted samples. Use `zero_division` parameter to control this behavior.\n",
            "  _warn_prf(average, modifier, msg_start, len(result))\n"
          ]
        },
        {
          "output_type": "stream",
          "name": "stdout",
          "text": [
            "['0' '0' '0' '0' '0' '0' '0' '0' '0' '0' '2' '0' '0' '0' '0' '2' '0' '0'\n",
            " '0' '0' '0' '0' '0' '0' '0' '1' '0' '0' '0' '0' '0' '1' '0' '0' '1' '0'\n",
            " '0' '0' '0' '0' '0' '0' '0' '0' '0' '0' '0' '0' '0'] ['0' '0' '0' '0' '0' '0' '0' '0' '0' '0' '0' '0' '0' '0' '0' '0' '0' '0'\n",
            " '0' '0' '0' '0' '0' '0' '0' '0' '0' '0' '0' '0' '0' '0' '0' '0' '0' '0'\n",
            " '0' '0' '0' '0' '0' '0' '0' '0' '0' '0' '0' '0' '0']\n",
            "            Train  accuracy  test  precision  recall  fscore\n",
            "0  Categorical NB     95.38  89.8      29.93   33.33   31.54\n"
          ]
        },
        {
          "output_type": "display_data",
          "data": {
            "text/plain": [
              "<Figure size 432x288 with 1 Axes>"
            ],
            "image/png": "[encoded data removed]"
          },
          "metadata": {
            "needs_background": "light"
          }
        }
      ]
    }
  ]
}